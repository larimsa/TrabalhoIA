{
 "cells": [
  {
   "cell_type": "markdown",
   "id": "d0448156-7939-4043-a188-0ffedf451fbe",
   "metadata": {
    "jp-MarkdownHeadingCollapsed": true
   },
   "source": [
    "# Importação de bibliotecas"
   ]
  },
  {
   "cell_type": "code",
   "execution_count": 1,
   "id": "5d9fa3b8-0370-48df-a2a5-75860f438905",
   "metadata": {},
   "outputs": [],
   "source": [
    "import pandas as pd\n",
    "import seaborn as sns\n",
    "import matplotlib.pyplot as plt"
   ]
  },
  {
   "cell_type": "markdown",
   "id": "6172f436-1884-4eed-9b23-477c8204cc2f",
   "metadata": {
    "jp-MarkdownHeadingCollapsed": true
   },
   "source": [
    "# Tratamento dos dados"
   ]
  },
  {
   "cell_type": "code",
   "execution_count": 2,
   "id": "591301cf-27c6-4b15-9a49-759bad5d9d22",
   "metadata": {},
   "outputs": [],
   "source": [
    "csv_falsos = pd.read_csv('Fake.csv')\n",
    "csv_verdadeiros = pd.read_csv('True.csv')"
   ]
  },
  {
   "cell_type": "markdown",
   "id": "59593da4-f493-4734-9071-42aebfd51099",
   "metadata": {},
   "source": [
    "## Tratamento dos dados de Fake.csv"
   ]
  },
  {
   "cell_type": "code",
   "execution_count": 3,
   "id": "ac920d39-1803-45ce-9632-95d0ae87f2e0",
   "metadata": {},
   "outputs": [
    {
     "name": "stdout",
     "output_type": "stream",
     "text": [
      "<class 'pandas.core.frame.DataFrame'>\n",
      "RangeIndex: 23481 entries, 0 to 23480\n",
      "Data columns (total 4 columns):\n",
      " #   Column   Non-Null Count  Dtype \n",
      "---  ------   --------------  ----- \n",
      " 0   title    23481 non-null  object\n",
      " 1   text     23481 non-null  object\n",
      " 2   subject  23481 non-null  object\n",
      " 3   date     23481 non-null  object\n",
      "dtypes: object(4)\n",
      "memory usage: 733.9+ KB\n"
     ]
    }
   ],
   "source": [
    "csv_falsos.info()"
   ]
  },
  {
   "cell_type": "markdown",
   "id": "f9df0fd6-1f65-4066-8b69-398bedbf78a3",
   "metadata": {},
   "source": [
    "não tem valores ausentes então não precisamos tratar valores ausentes, são todos no formato de objeto, a coluna de date deveria ser em datetime mas como não vamos trabalhar com essa coluna não vou alterar isso"
   ]
  },
  {
   "cell_type": "code",
   "execution_count": 4,
   "id": "3ed18f21-45af-4017-944a-77b3d70f1253",
   "metadata": {},
   "outputs": [
    {
     "data": {
      "text/html": [
       "<div>\n",
       "<style scoped>\n",
       "    .dataframe tbody tr th:only-of-type {\n",
       "        vertical-align: middle;\n",
       "    }\n",
       "\n",
       "    .dataframe tbody tr th {\n",
       "        vertical-align: top;\n",
       "    }\n",
       "\n",
       "    .dataframe thead th {\n",
       "        text-align: right;\n",
       "    }\n",
       "</style>\n",
       "<table border=\"1\" class=\"dataframe\">\n",
       "  <thead>\n",
       "    <tr style=\"text-align: right;\">\n",
       "      <th></th>\n",
       "      <th>title</th>\n",
       "      <th>text</th>\n",
       "      <th>subject</th>\n",
       "      <th>date</th>\n",
       "    </tr>\n",
       "  </thead>\n",
       "  <tbody>\n",
       "    <tr>\n",
       "      <th>count</th>\n",
       "      <td>23481</td>\n",
       "      <td>23481</td>\n",
       "      <td>23481</td>\n",
       "      <td>23481</td>\n",
       "    </tr>\n",
       "    <tr>\n",
       "      <th>unique</th>\n",
       "      <td>17903</td>\n",
       "      <td>17455</td>\n",
       "      <td>6</td>\n",
       "      <td>1681</td>\n",
       "    </tr>\n",
       "    <tr>\n",
       "      <th>top</th>\n",
       "      <td>MEDIA IGNORES Time That Bill Clinton FIRED His...</td>\n",
       "      <td></td>\n",
       "      <td>News</td>\n",
       "      <td>May 10, 2017</td>\n",
       "    </tr>\n",
       "    <tr>\n",
       "      <th>freq</th>\n",
       "      <td>6</td>\n",
       "      <td>626</td>\n",
       "      <td>9050</td>\n",
       "      <td>46</td>\n",
       "    </tr>\n",
       "  </tbody>\n",
       "</table>\n",
       "</div>"
      ],
      "text/plain": [
       "                                                    title   text subject  \\\n",
       "count                                               23481  23481   23481   \n",
       "unique                                              17903  17455       6   \n",
       "top     MEDIA IGNORES Time That Bill Clinton FIRED His...           News   \n",
       "freq                                                    6    626    9050   \n",
       "\n",
       "                date  \n",
       "count          23481  \n",
       "unique          1681  \n",
       "top     May 10, 2017  \n",
       "freq              46  "
      ]
     },
     "execution_count": 4,
     "metadata": {},
     "output_type": "execute_result"
    }
   ],
   "source": [
    "csv_falsos.describe()"
   ]
  },
  {
   "cell_type": "markdown",
   "id": "ec581a9b-a1cf-4efb-a0c5-2d07c1b06908",
   "metadata": {},
   "source": [
    "daqui a gente tira que existe notícias com titulos ou textos repetidos então vou remover elas e a gente tem apenas 6 assuntos diferentes o que eu não sei se pode ser um problema"
   ]
  },
  {
   "cell_type": "code",
   "execution_count": 5,
   "id": "db3a8b71-e6e6-4264-ab80-4baee061c420",
   "metadata": {},
   "outputs": [
    {
     "data": {
      "text/plain": [
       "np.int64(3)"
      ]
     },
     "execution_count": 5,
     "metadata": {},
     "output_type": "execute_result"
    }
   ],
   "source": [
    "csv_falsos.duplicated().sum()"
   ]
  },
  {
   "cell_type": "code",
   "execution_count": 6,
   "id": "20791814-2010-40a1-a48c-d0bb4dd4cea9",
   "metadata": {},
   "outputs": [
    {
     "data": {
      "text/html": [
       "<div>\n",
       "<style scoped>\n",
       "    .dataframe tbody tr th:only-of-type {\n",
       "        vertical-align: middle;\n",
       "    }\n",
       "\n",
       "    .dataframe tbody tr th {\n",
       "        vertical-align: top;\n",
       "    }\n",
       "\n",
       "    .dataframe thead th {\n",
       "        text-align: right;\n",
       "    }\n",
       "</style>\n",
       "<table border=\"1\" class=\"dataframe\">\n",
       "  <thead>\n",
       "    <tr style=\"text-align: right;\">\n",
       "      <th></th>\n",
       "      <th>title</th>\n",
       "      <th>text</th>\n",
       "      <th>subject</th>\n",
       "      <th>date</th>\n",
       "    </tr>\n",
       "  </thead>\n",
       "  <tbody>\n",
       "    <tr>\n",
       "      <th>count</th>\n",
       "      <td>17450</td>\n",
       "      <td>17450</td>\n",
       "      <td>17450</td>\n",
       "      <td>17450</td>\n",
       "    </tr>\n",
       "    <tr>\n",
       "      <th>unique</th>\n",
       "      <td>17450</td>\n",
       "      <td>17450</td>\n",
       "      <td>5</td>\n",
       "      <td>1681</td>\n",
       "    </tr>\n",
       "    <tr>\n",
       "      <th>top</th>\n",
       "      <td>A Troubled King: Chicago’s Rahm Emanuel Desper...</td>\n",
       "      <td>21st Century Wire says It s not that far away....</td>\n",
       "      <td>News</td>\n",
       "      <td>May 26, 2016</td>\n",
       "    </tr>\n",
       "    <tr>\n",
       "      <th>freq</th>\n",
       "      <td>1</td>\n",
       "      <td>1</td>\n",
       "      <td>9049</td>\n",
       "      <td>35</td>\n",
       "    </tr>\n",
       "  </tbody>\n",
       "</table>\n",
       "</div>"
      ],
      "text/plain": [
       "                                                    title  \\\n",
       "count                                               17450   \n",
       "unique                                              17450   \n",
       "top     A Troubled King: Chicago’s Rahm Emanuel Desper...   \n",
       "freq                                                    1   \n",
       "\n",
       "                                                     text subject  \\\n",
       "count                                               17450   17450   \n",
       "unique                                              17450       5   \n",
       "top     21st Century Wire says It s not that far away....    News   \n",
       "freq                                                    1    9049   \n",
       "\n",
       "                date  \n",
       "count          17450  \n",
       "unique          1681  \n",
       "top     May 26, 2016  \n",
       "freq              35  "
      ]
     },
     "execution_count": 6,
     "metadata": {},
     "output_type": "execute_result"
    }
   ],
   "source": [
    "csv_falsos = csv_falsos.drop_duplicates()\n",
    "csv_falsos = csv_falsos.drop_duplicates(subset=['title', 'text'], keep='first')\n",
    "csv_falsos = csv_falsos.drop_duplicates(subset=['title'], keep='first')\n",
    "csv_falsos = csv_falsos.drop_duplicates(subset=['text'], keep='first')\n",
    "csv_falsos.describe()"
   ]
  },
  {
   "cell_type": "markdown",
   "id": "c1f28b8e-aad3-4739-856d-a1041e21591d",
   "metadata": {},
   "source": [
    "duplicadas removidas"
   ]
  },
  {
   "cell_type": "markdown",
   "id": "94899fe8-4205-4b05-8637-17f9cb71fff7",
   "metadata": {},
   "source": [
    "## Tratamento dos dados de True.csv"
   ]
  },
  {
   "cell_type": "code",
   "execution_count": 7,
   "id": "c34e504c-5851-4229-83ea-98c62f92f4dd",
   "metadata": {},
   "outputs": [
    {
     "name": "stdout",
     "output_type": "stream",
     "text": [
      "<class 'pandas.core.frame.DataFrame'>\n",
      "RangeIndex: 21417 entries, 0 to 21416\n",
      "Data columns (total 4 columns):\n",
      " #   Column   Non-Null Count  Dtype \n",
      "---  ------   --------------  ----- \n",
      " 0   title    21417 non-null  object\n",
      " 1   text     21417 non-null  object\n",
      " 2   subject  21417 non-null  object\n",
      " 3   date     21417 non-null  object\n",
      "dtypes: object(4)\n",
      "memory usage: 669.4+ KB\n"
     ]
    }
   ],
   "source": [
    "csv_verdadeiros.info()"
   ]
  },
  {
   "cell_type": "code",
   "execution_count": 8,
   "id": "32fd051b-01ea-4688-9e9b-deffa8b506c3",
   "metadata": {},
   "outputs": [
    {
     "data": {
      "text/html": [
       "<div>\n",
       "<style scoped>\n",
       "    .dataframe tbody tr th:only-of-type {\n",
       "        vertical-align: middle;\n",
       "    }\n",
       "\n",
       "    .dataframe tbody tr th {\n",
       "        vertical-align: top;\n",
       "    }\n",
       "\n",
       "    .dataframe thead th {\n",
       "        text-align: right;\n",
       "    }\n",
       "</style>\n",
       "<table border=\"1\" class=\"dataframe\">\n",
       "  <thead>\n",
       "    <tr style=\"text-align: right;\">\n",
       "      <th></th>\n",
       "      <th>title</th>\n",
       "      <th>text</th>\n",
       "      <th>subject</th>\n",
       "      <th>date</th>\n",
       "    </tr>\n",
       "  </thead>\n",
       "  <tbody>\n",
       "    <tr>\n",
       "      <th>count</th>\n",
       "      <td>21417</td>\n",
       "      <td>21417</td>\n",
       "      <td>21417</td>\n",
       "      <td>21417</td>\n",
       "    </tr>\n",
       "    <tr>\n",
       "      <th>unique</th>\n",
       "      <td>20826</td>\n",
       "      <td>21192</td>\n",
       "      <td>2</td>\n",
       "      <td>716</td>\n",
       "    </tr>\n",
       "    <tr>\n",
       "      <th>top</th>\n",
       "      <td>Factbox: Trump fills top jobs for his administ...</td>\n",
       "      <td>(Reuters) - Highlights for U.S. President Dona...</td>\n",
       "      <td>politicsNews</td>\n",
       "      <td>December 20, 2017</td>\n",
       "    </tr>\n",
       "    <tr>\n",
       "      <th>freq</th>\n",
       "      <td>14</td>\n",
       "      <td>8</td>\n",
       "      <td>11272</td>\n",
       "      <td>182</td>\n",
       "    </tr>\n",
       "  </tbody>\n",
       "</table>\n",
       "</div>"
      ],
      "text/plain": [
       "                                                    title  \\\n",
       "count                                               21417   \n",
       "unique                                              20826   \n",
       "top     Factbox: Trump fills top jobs for his administ...   \n",
       "freq                                                   14   \n",
       "\n",
       "                                                     text       subject  \\\n",
       "count                                               21417         21417   \n",
       "unique                                              21192             2   \n",
       "top     (Reuters) - Highlights for U.S. President Dona...  politicsNews   \n",
       "freq                                                    8         11272   \n",
       "\n",
       "                      date  \n",
       "count                21417  \n",
       "unique                 716  \n",
       "top     December 20, 2017   \n",
       "freq                   182  "
      ]
     },
     "execution_count": 8,
     "metadata": {},
     "output_type": "execute_result"
    }
   ],
   "source": [
    "csv_verdadeiros.describe()"
   ]
  },
  {
   "cell_type": "markdown",
   "id": "c8268d16-6c30-4d85-83a2-e81a4ad6482f",
   "metadata": {},
   "source": [
    "igual do fake.csv os titulos se repetem o que é de certa forma normal por ser notícia mas acho que pode causar overfitting no algoritmo então vou remover esses que se repetem, e não sei se o fato de só ter 2 assuntos diferentes também pode afetar em algo"
   ]
  },
  {
   "cell_type": "code",
   "execution_count": 9,
   "id": "0fe04a3d-47ce-4803-87f0-ddb86241071f",
   "metadata": {},
   "outputs": [
    {
     "data": {
      "text/plain": [
       "np.int64(206)"
      ]
     },
     "execution_count": 9,
     "metadata": {},
     "output_type": "execute_result"
    }
   ],
   "source": [
    "csv_verdadeiros.duplicated().sum()"
   ]
  },
  {
   "cell_type": "code",
   "execution_count": 10,
   "id": "3d314457-14ec-4fa5-8dc7-938893e203de",
   "metadata": {},
   "outputs": [],
   "source": [
    "csv_verdadeiros = csv_verdadeiros.drop_duplicates()\n",
    "csv_verdadeiros = csv_verdadeiros.drop_duplicates(subset=['title', 'text'], keep='first')\n",
    "# aqui eu to removendo duplicadas que tem titulo E texto igual e mantendo apenas a primeira\n",
    "csv_verdadeiros = csv_verdadeiros.drop_duplicates(subset=['title'], keep='first')\n",
    "csv_verdadeiros = csv_verdadeiros.drop_duplicates(subset=['text'], keep='first')"
   ]
  },
  {
   "cell_type": "code",
   "execution_count": 11,
   "id": "6ab82d2c-5c81-4898-9968-4b760fce259e",
   "metadata": {
    "scrolled": true
   },
   "outputs": [
    {
     "data": {
      "text/html": [
       "<div>\n",
       "<style scoped>\n",
       "    .dataframe tbody tr th:only-of-type {\n",
       "        vertical-align: middle;\n",
       "    }\n",
       "\n",
       "    .dataframe tbody tr th {\n",
       "        vertical-align: top;\n",
       "    }\n",
       "\n",
       "    .dataframe thead th {\n",
       "        text-align: right;\n",
       "    }\n",
       "</style>\n",
       "<table border=\"1\" class=\"dataframe\">\n",
       "  <thead>\n",
       "    <tr style=\"text-align: right;\">\n",
       "      <th></th>\n",
       "      <th>title</th>\n",
       "      <th>text</th>\n",
       "      <th>subject</th>\n",
       "      <th>date</th>\n",
       "    </tr>\n",
       "  </thead>\n",
       "  <tbody>\n",
       "    <tr>\n",
       "      <th>count</th>\n",
       "      <td>20821</td>\n",
       "      <td>20821</td>\n",
       "      <td>20821</td>\n",
       "      <td>20821</td>\n",
       "    </tr>\n",
       "    <tr>\n",
       "      <th>unique</th>\n",
       "      <td>20821</td>\n",
       "      <td>20821</td>\n",
       "      <td>2</td>\n",
       "      <td>716</td>\n",
       "    </tr>\n",
       "    <tr>\n",
       "      <th>top</th>\n",
       "      <td>Indonesia to buy $1.14 billion worth of Russia...</td>\n",
       "      <td>JAKARTA (Reuters) - Indonesia will buy 11 Sukh...</td>\n",
       "      <td>politicsNews</td>\n",
       "      <td>December 6, 2017</td>\n",
       "    </tr>\n",
       "    <tr>\n",
       "      <th>freq</th>\n",
       "      <td>1</td>\n",
       "      <td>1</td>\n",
       "      <td>11147</td>\n",
       "      <td>165</td>\n",
       "    </tr>\n",
       "  </tbody>\n",
       "</table>\n",
       "</div>"
      ],
      "text/plain": [
       "                                                    title  \\\n",
       "count                                               20821   \n",
       "unique                                              20821   \n",
       "top     Indonesia to buy $1.14 billion worth of Russia...   \n",
       "freq                                                    1   \n",
       "\n",
       "                                                     text       subject  \\\n",
       "count                                               20821         20821   \n",
       "unique                                              20821             2   \n",
       "top     JAKARTA (Reuters) - Indonesia will buy 11 Sukh...  politicsNews   \n",
       "freq                                                    1         11147   \n",
       "\n",
       "                     date  \n",
       "count               20821  \n",
       "unique                716  \n",
       "top     December 6, 2017   \n",
       "freq                  165  "
      ]
     },
     "execution_count": 11,
     "metadata": {},
     "output_type": "execute_result"
    }
   ],
   "source": [
    "csv_verdadeiros.describe()"
   ]
  },
  {
   "cell_type": "markdown",
   "id": "94ca9d64-1315-4dc1-b97d-bd8e965aec03",
   "metadata": {
    "jp-MarkdownHeadingCollapsed": true
   },
   "source": [
    "# Pré-processamento de Texto"
   ]
  },
  {
   "cell_type": "markdown",
   "id": "a04d3723-eb51-4393-9cf8-e1005e9249f3",
   "metadata": {},
   "source": [
    "## Importação de Bibliotecas"
   ]
  },
  {
   "cell_type": "code",
   "execution_count": 12,
   "id": "5eff416b-6278-4f31-a2c1-78d50c6f847c",
   "metadata": {},
   "outputs": [],
   "source": [
    "import re\n",
    "#esse aq é o natural language tool kit que a gente vai usar pra remover as stopwords\n",
    "import nltk\n",
    "from nltk.corpus import stopwords\n",
    "from sklearn.feature_extraction.text import TfidfVectorizer"
   ]
  },
  {
   "cell_type": "code",
   "execution_count": 13,
   "id": "9c083b81-344b-4f79-a062-e190e5f2483f",
   "metadata": {},
   "outputs": [
    {
     "name": "stderr",
     "output_type": "stream",
     "text": [
      "[nltk_data] Downloading package stopwords to\n",
      "[nltk_data]     /Users/larissa/nltk_data...\n",
      "[nltk_data]   Package stopwords is already up-to-date!\n"
     ]
    },
    {
     "data": {
      "text/plain": [
       "True"
      ]
     },
     "execution_count": 13,
     "metadata": {},
     "output_type": "execute_result"
    }
   ],
   "source": [
    "#baixando as stopwords\n",
    "nltk.download('stopwords')"
   ]
  },
  {
   "cell_type": "code",
   "execution_count": 14,
   "id": "e1fb9ece-53e1-46ed-a2ee-affe475cb5e2",
   "metadata": {},
   "outputs": [],
   "source": [
    "# aqui a gente ta deixando os textos em formatos padroes\n",
    "\n",
    "def limpar_texto(texto):\n",
    "    texto = texto.lower()  # tudo em minúsculo\n",
    "    texto = re.sub(r'\\d+', '', texto)  # remove números\n",
    "    texto = re.sub(r'[^\\w\\s]', '', texto)  # remove pontuação\n",
    "    texto = texto.strip()  # remove espaços antes e depois\n",
    "    return texto\n",
    "\n",
    "#aplicando a limpeza nos datasets\n",
    "csv_falsos['text_limpo'] = csv_falsos['text'].apply(limpar_texto)\n",
    "csv_verdadeiros['text_limpo'] = csv_verdadeiros['text'].apply(limpar_texto)"
   ]
  },
  {
   "cell_type": "markdown",
   "id": "1b801ebc-7159-4f82-bc05-478987726c6b",
   "metadata": {},
   "source": [
    "* Adicionamos o rótulo 0 para notícias falsas e 1 para notícias verdadeiras *"
   ]
  },
  {
   "cell_type": "code",
   "execution_count": 15,
   "id": "cd133d37-b4f9-4ba5-8d73-abee5a5c4835",
   "metadata": {},
   "outputs": [],
   "source": [
    "csv_falsos['label'] = 0\n",
    "csv_verdadeiros['label'] = 1"
   ]
  },
  {
   "cell_type": "markdown",
   "id": "ea070a97-2050-487b-8d19-5c6df7fbfdc4",
   "metadata": {},
   "source": [
    "* agora a gente junta os dois em um unico dataset *"
   ]
  },
  {
   "cell_type": "code",
   "execution_count": 16,
   "id": "201016cb-2ef7-4314-8e1e-b98c791b12e7",
   "metadata": {},
   "outputs": [],
   "source": [
    "noticias = pd.concat([csv_falsos, csv_verdadeiros], ignore_index=True)"
   ]
  },
  {
   "cell_type": "code",
   "execution_count": 17,
   "id": "f5c85b36-a250-4dde-b2fb-622c2a0d8981",
   "metadata": {},
   "outputs": [
    {
     "name": "stdout",
     "output_type": "stream",
     "text": [
      "<class 'pandas.core.frame.DataFrame'>\n",
      "RangeIndex: 38271 entries, 0 to 38270\n",
      "Data columns (total 6 columns):\n",
      " #   Column      Non-Null Count  Dtype \n",
      "---  ------      --------------  ----- \n",
      " 0   title       38271 non-null  object\n",
      " 1   text        38271 non-null  object\n",
      " 2   subject     38271 non-null  object\n",
      " 3   date        38271 non-null  object\n",
      " 4   text_limpo  38271 non-null  object\n",
      " 5   label       38271 non-null  int64 \n",
      "dtypes: int64(1), object(5)\n",
      "memory usage: 1.8+ MB\n"
     ]
    }
   ],
   "source": [
    "noticias.info()"
   ]
  },
  {
   "cell_type": "markdown",
   "id": "b5c09847-e64b-42b1-89ea-986dd16e574e",
   "metadata": {},
   "source": [
    "* removendo as stopwords *"
   ]
  },
  {
   "cell_type": "code",
   "execution_count": 18,
   "id": "caec538f-1ac7-40ad-b654-0c8c691ac9dc",
   "metadata": {},
   "outputs": [],
   "source": [
    "stop_words = set(stopwords.words('english'))\n",
    "\n",
    "def remover_stopwords(texto):\n",
    "    palavras = texto.split()\n",
    "    palavras_filtradas = [p for p in palavras if p not in stop_words]\n",
    "    return ' '.join(palavras_filtradas)\n",
    "\n",
    "noticias['text_limpo'] = noticias['text_limpo'].apply(remover_stopwords)"
   ]
  },
  {
   "cell_type": "markdown",
   "id": "534fae4a-647a-418f-b651-dfd505d75023",
   "metadata": {},
   "source": [
    "## Vetorização dos textos com TF-IDF"
   ]
  },
  {
   "cell_type": "markdown",
   "id": "6afaddd4-c965-4c95-b277-aab20259214c",
   "metadata": {},
   "source": [
    "aq a gente ta criando um vetorizador TF-IDF que transforma o texto em uma matriz numérica baseada na importancia das palavras, ele calcula essa importância com base na frequência de cada palavra mas se ela aparece em muitos documentos ela deixa de ser importante (nao sei se deu pra entender)"
   ]
  },
  {
   "cell_type": "code",
   "execution_count": 19,
   "id": "fd4cbb18-2c28-4401-917f-43fc39c4a03b",
   "metadata": {},
   "outputs": [],
   "source": [
    "vetorizado = TfidfVectorizer(max_features=1500)  # aqui eu to falando pra ele considerar apenas as 1500 mais importantes fazendo isso a gente evita overf\n",
    "X = vetorizado.fit_transform(noticias['text_limpo'])  \n",
    "y = noticias['label']"
   ]
  },
  {
   "cell_type": "markdown",
   "id": "d032614b-6668-4e51-b8ea-ac4c1bea8cba",
   "metadata": {},
   "source": [
    "## Separação dos dados em treino e teste"
   ]
  },
  {
   "cell_type": "code",
   "execution_count": 20,
   "id": "d347d8f6-0c19-4a49-bffb-1fc81cfe6fed",
   "metadata": {},
   "outputs": [],
   "source": [
    "from sklearn.model_selection import train_test_split\n",
    "\n",
    "X_train, X_test, y_train, y_test = train_test_split(X, y, test_size=0.2, random_state=42, stratify=y) # aqui eu deixei 20% para treino e 80% para teste"
   ]
  },
  {
   "cell_type": "markdown",
   "id": "1f611ac7-8335-467d-84fa-65789be3f47b",
   "metadata": {},
   "source": [
    "# Algoritmo de PLN"
   ]
  },
  {
   "cell_type": "markdown",
   "id": "fd56407c-9fad-48d1-b832-51f41dc42fa6",
   "metadata": {},
   "source": [
    "## Algoritmo 1 - Naive Bayes"
   ]
  },
  {
   "cell_type": "markdown",
   "id": "33530437-baff-475d-a321-903b1eeb7a9f",
   "metadata": {},
   "source": [
    "esses resultados indicam que o modelo Naive Bayes teve um excelente desempenho na tarefa de classificação de notícias falsas e verdadeiras. A acurácia geral do modelo foi de 94%, ou seja, ele acertou corretamente a classificação em 94% das notícias do conjunto de teste (8861 exemplos no total).\n",
    "\n",
    "Analisando por classe:\n",
    "\n",
    "para as notícias falsas (classe 0), o modelo teve 94% de precisão (ou seja, das notícias que ele previu como falsas, 94% realmente eram falsas) e 94% de recall (ou seja, ele conseguiu encontrar 94% de todas as falsas existentes no teste).\n",
    "para as notícias verdadeiras (classe 1), a precisão foi de 93% e o recall também de 94%, indicando um desempenho equilibrado entre os dois tipos de notícia.\n",
    "além disso, os valores de f1-score (média harmônica entre precisão e recall) ficaram em 0.94 para ambas as classes, mostrando que o modelo mantém um bom equilíbrio entre não perder exemplos nem gerar muitos falsos positivos.\n"
   ]
  },
  {
   "cell_type": "code",
   "execution_count": 21,
   "id": "9e49c47a-4f00-406a-8277-079e91556c4f",
   "metadata": {},
   "outputs": [],
   "source": [
    "from sklearn.naive_bayes import MultinomialNB\n",
    "from sklearn.metrics import classification_report"
   ]
  },
  {
   "cell_type": "code",
   "execution_count": 22,
   "id": "6968d31c-521a-49ef-99a7-a4ffdaa5292f",
   "metadata": {},
   "outputs": [
    {
     "name": "stdout",
     "output_type": "stream",
     "text": [
      "Resultados - Naive Bayes:\n",
      "              precision    recall  f1-score   support\n",
      "\n",
      "           0       0.94      0.91      0.93      3490\n",
      "           1       0.93      0.95      0.94      4165\n",
      "\n",
      "    accuracy                           0.94      7655\n",
      "   macro avg       0.94      0.93      0.94      7655\n",
      "weighted avg       0.94      0.94      0.94      7655\n",
      "\n"
     ]
    }
   ],
   "source": [
    "nb = MultinomialNB()\n",
    "nb.fit(X_train, y_train)\n",
    "\n",
    "y_pred_nb = nb.predict(X_test)\n",
    "print(\"Resultados - Naive Bayes:\")\n",
    "print(classification_report(y_test, y_pred_nb))"
   ]
  },
  {
   "cell_type": "markdown",
   "id": "8d98c123-c75c-48ee-b49c-38e0858ba042",
   "metadata": {},
   "source": [
    "## Algoritmo 2 - Random Forest\n"
   ]
  },
  {
   "cell_type": "code",
   "execution_count": 23,
   "id": "00059a2a-bccc-4563-9d5e-5457b6913f31",
   "metadata": {},
   "outputs": [],
   "source": [
    "from sklearn.ensemble import RandomForestClassifier"
   ]
  },
  {
   "cell_type": "code",
   "execution_count": 24,
   "id": "5e172c4f-5972-4f44-b63a-9fc1f4cfe8fb",
   "metadata": {},
   "outputs": [
    {
     "name": "stdout",
     "output_type": "stream",
     "text": [
      "Resultados - Random Forest:\n",
      "              precision    recall  f1-score   support\n",
      "\n",
      "           0       1.00      0.98      0.99      3490\n",
      "           1       0.98      1.00      0.99      4165\n",
      "\n",
      "    accuracy                           0.99      7655\n",
      "   macro avg       0.99      0.99      0.99      7655\n",
      "weighted avg       0.99      0.99      0.99      7655\n",
      "\n"
     ]
    }
   ],
   "source": [
    "rf = RandomForestClassifier(n_estimators=100, random_state=42, max_depth=10) #aqui eu coloquei pro modelo fazer so uma arvore e altura maxima de 10 mas ja deu um resultado mt bom pqp\n",
    "rf.fit(X_train, y_train)\n",
    "\n",
    "y_pred_rf = rf.predict(X_test)\n",
    "print(\"Resultados - Random Forest:\")\n",
    "print(classification_report(y_test, y_pred_rf))"
   ]
  },
  {
   "cell_type": "markdown",
   "id": "c3658270-5aa5-42dd-b3f8-29babe8ead5a",
   "metadata": {},
   "source": [
    "# Outros Algoritmos"
   ]
  },
  {
   "cell_type": "markdown",
   "id": "dc8cfe5d-79c3-4653-a98e-c144fe93b863",
   "metadata": {},
   "source": [
    "## Algoritmo 3 - Logistic Regression\n",
    "esse aqui o gepeto disse que vai muito bem com tf-idf+texto"
   ]
  },
  {
   "cell_type": "code",
   "execution_count": 25,
   "id": "19d19924-cbf1-4e6c-ba08-301edc31f70e",
   "metadata": {},
   "outputs": [],
   "source": [
    "from sklearn.linear_model import LogisticRegression"
   ]
  },
  {
   "cell_type": "code",
   "execution_count": 26,
   "id": "13a178bd-a5fd-4681-937b-88683c28ebb2",
   "metadata": {},
   "outputs": [
    {
     "name": "stdout",
     "output_type": "stream",
     "text": [
      "              precision    recall  f1-score   support\n",
      "\n",
      "           0       0.99      0.98      0.98      3490\n",
      "           1       0.98      0.99      0.99      4165\n",
      "\n",
      "    accuracy                           0.99      7655\n",
      "   macro avg       0.99      0.98      0.99      7655\n",
      "weighted avg       0.99      0.99      0.99      7655\n",
      "\n"
     ]
    }
   ],
   "source": [
    "lr = LogisticRegression(max_iter=1000) \n",
    "lr.fit(X_train, y_train)\n",
    "\n",
    "y_pred_lr = lr.predict(X_test)\n",
    "\n",
    "print(classification_report(y_test, y_pred_lr))"
   ]
  },
  {
   "cell_type": "markdown",
   "id": "c5586bd9-8a4f-46a2-8eda-13ba05055fdd",
   "metadata": {},
   "source": [
    "## Algoritmo 4 - SVM"
   ]
  },
  {
   "cell_type": "code",
   "execution_count": 27,
   "id": "9ca1e716-4ba3-4d80-9b44-89163daa0bc3",
   "metadata": {},
   "outputs": [],
   "source": [
    "from sklearn.svm import LinearSVC"
   ]
  },
  {
   "cell_type": "code",
   "execution_count": 28,
   "id": "5cbaa20f-2fae-40a6-b601-209ebd641feb",
   "metadata": {},
   "outputs": [
    {
     "name": "stdout",
     "output_type": "stream",
     "text": [
      "              precision    recall  f1-score   support\n",
      "\n",
      "           0       1.00      0.99      0.99      3490\n",
      "           1       0.99      1.00      0.99      4165\n",
      "\n",
      "    accuracy                           0.99      7655\n",
      "   macro avg       0.99      0.99      0.99      7655\n",
      "weighted avg       0.99      0.99      0.99      7655\n",
      "\n"
     ]
    }
   ],
   "source": [
    "svm = LinearSVC()\n",
    "svm.fit(X_train, y_train)\n",
    "\n",
    "y_pred_svm = svm.predict(X_test)\n",
    "\n",
    "print(classification_report(y_test, y_pred_svm))"
   ]
  },
  {
   "cell_type": "markdown",
   "id": "e51132a6-deb2-4d43-905d-3b23a4b17397",
   "metadata": {},
   "source": [
    "## Algoritmo 5 - KNN"
   ]
  },
  {
   "cell_type": "code",
   "execution_count": 29,
   "id": "b37cd40c-e36a-4f4b-90a6-025b2ec17e77",
   "metadata": {},
   "outputs": [],
   "source": [
    "from sklearn.neighbors import KNeighborsClassifier"
   ]
  },
  {
   "cell_type": "code",
   "execution_count": 30,
   "id": "4492d461-4b00-4b65-8220-f78b76109ecb",
   "metadata": {},
   "outputs": [
    {
     "name": "stdout",
     "output_type": "stream",
     "text": [
      "              precision    recall  f1-score   support\n",
      "\n",
      "           0       0.61      0.95      0.74      3490\n",
      "           1       0.92      0.50      0.65      4165\n",
      "\n",
      "    accuracy                           0.70      7655\n",
      "   macro avg       0.77      0.72      0.70      7655\n",
      "weighted avg       0.78      0.70      0.69      7655\n",
      "\n"
     ]
    }
   ],
   "source": [
    "knn = KNeighborsClassifier(n_neighbors=5)\n",
    "knn.fit(X_train, y_train)\n",
    "\n",
    "y_pred_knn = knn.predict(X_test)\n",
    "\n",
    "print(classification_report(y_test, y_pred_knn))"
   ]
  },
  {
   "cell_type": "markdown",
   "id": "472325ad-a3b4-4fdf-91bd-7ae2def153da",
   "metadata": {
    "jp-MarkdownHeadingCollapsed": true
   },
   "source": [
    "## Validação cruzada do SVM"
   ]
  },
  {
   "cell_type": "code",
   "execution_count": 31,
   "id": "bcc10d37-0b01-4533-a3b0-ac8b55cd3f10",
   "metadata": {},
   "outputs": [
    {
     "name": "stdout",
     "output_type": "stream",
     "text": [
      "0.987797438428219\n"
     ]
    }
   ],
   "source": [
    "from sklearn.model_selection import cross_val_score\n",
    "scores = cross_val_score(svm, X, y, cv=5)\n",
    "print(scores.mean())"
   ]
  },
  {
   "cell_type": "markdown",
   "id": "29f607ed-c0d2-4d7e-9643-5c6667416838",
   "metadata": {},
   "source": [
    "# Matriz de Confusão para cada algoritmo"
   ]
  },
  {
   "cell_type": "code",
   "execution_count": 32,
   "id": "76168626-7263-460c-88f8-c6213d2f673c",
   "metadata": {},
   "outputs": [
    {
     "data": {
      "image/png": "[encoded data removed]",
      "text/plain": [
       "<Figure size 640x480 with 2 Axes>"
      ]
     },
     "metadata": {},
     "output_type": "display_data"
    }
   ],
   "source": [
    "from sklearn.metrics import confusion_matrix, ConfusionMatrixDisplay\n",
    "\n",
    "cm_lr = confusion_matrix(y_test, y_pred_lr)\n",
    "disp_lr = ConfusionMatrixDisplay(confusion_matrix=cm_lr, display_labels=[\"Fake\", \"Real\"])\n",
    "disp_lr.plot(cmap='Blues')\n",
    "plt.title(\"Matriz de Confusão - Logistic Regression\")\n",
    "plt.show()"
   ]
  },
  {
   "cell_type": "code",
   "execution_count": 33,
   "id": "98a19991-fc07-469a-a157-a21344d08863",
   "metadata": {},
   "outputs": [
    {
     "data": {
      "image/png": "[encoded data removed]",
      "text/plain": [
       "<Figure size 640x480 with 2 Axes>"
      ]
     },
     "metadata": {},
     "output_type": "display_data"
    }
   ],
   "source": [
    "cm_svm = confusion_matrix(y_test, y_pred_svm)\n",
    "disp_svm = ConfusionMatrixDisplay(confusion_matrix=cm_svm, display_labels=[\"Fake\", \"Real\"])\n",
    "disp_svm.plot(cmap='Purples')\n",
    "plt.title(\"Matriz de Confusão - SVM (LinearSVC)\")\n",
    "plt.show()"
   ]
  },
  {
   "cell_type": "code",
   "execution_count": 34,
   "id": "05e47c0d-d953-4668-baa6-d4d31f1fc497",
   "metadata": {},
   "outputs": [
    {
     "data": {
      "image/png": "[encoded data removed]",
      "text/plain": [
       "<Figure size 640x480 with 2 Axes>"
      ]
     },
     "metadata": {},
     "output_type": "display_data"
    }
   ],
   "source": [
    "cm_knn = confusion_matrix(y_test, y_pred_knn)\n",
    "disp_knn = ConfusionMatrixDisplay(confusion_matrix=cm_knn, display_labels=[\"Fake\", \"Real\"])\n",
    "disp_knn.plot(cmap='Greens')\n",
    "plt.title(\"Matriz de Confusão - KNN\")\n",
    "plt.show()"
   ]
  },
  {
   "cell_type": "code",
   "execution_count": 35,
   "id": "f55b10be-d377-4dc9-a83a-5223cbd1994c",
   "metadata": {},
   "outputs": [
    {
     "data": {
      "image/png": "[encoded data removed]",
      "text/plain": [
       "<Figure size 640x480 with 2 Axes>"
      ]
     },
     "metadata": {},
     "output_type": "display_data"
    }
   ],
   "source": [
    "cm_nb = confusion_matrix(y_test, y_pred_nb)\n",
    "disp_nb = ConfusionMatrixDisplay(confusion_matrix=cm_nb, display_labels=[\"Fake\", \"Real\"])\n",
    "disp_nb.plot(cmap='Oranges')\n",
    "plt.title(\"Matriz de Confusão - Naive Bayes\")\n",
    "plt.show()"
   ]
  },
  {
   "cell_type": "code",
   "execution_count": 36,
   "id": "90199457-1fa2-4e41-9aae-2fe453c1e091",
   "metadata": {},
   "outputs": [
    {
     "data": {
      "image/png": "[encoded data removed]",
      "text/plain": [
       "<Figure size 640x480 with 2 Axes>"
      ]
     },
     "metadata": {},
     "output_type": "display_data"
    }
   ],
   "source": [
    "cm_rf = confusion_matrix(y_test, y_pred_rf)\n",
    "disp_rf = ConfusionMatrixDisplay(confusion_matrix=cm_rf, display_labels=[\"Fake\", \"Real\"])\n",
    "disp_rf.plot(cmap='Reds')\n",
    "plt.title(\"Matriz de Confusão - Random Forest\")\n",
    "plt.show()"
   ]
  },
  {
   "cell_type": "markdown",
   "id": "9cd2ebe1-f1c2-43d2-bb94-a4ea5d31c00c",
   "metadata": {},
   "source": [
    "# Gráficos"
   ]
  },
  {
   "cell_type": "code",
   "execution_count": 37,
   "id": "91bc8f07-1faa-41cb-84a7-362c34a7472b",
   "metadata": {},
   "outputs": [
    {
     "data": {
      "image/png": "[encoded data removed]",
      "text/plain": [
       "<Figure size 1000x600 with 1 Axes>"
      ]
     },
     "metadata": {},
     "output_type": "display_data"
    }
   ],
   "source": [
    "modelos = [\"Naive Bayes\", \"Random Forest\", \"Logistic Regression\", \"SVM\", \"KNN\"]\n",
    "acuracias = [0.94, 0.99, 0.99, 0.99, 0.70]\n",
    "\n",
    "plt.figure(figsize=(10, 6))\n",
    "plt.bar(modelos, acuracias, color='cornflowerblue')\n",
    "plt.ylim(0, 1.0)\n",
    "plt.title(\"Comparação de Acurácia dos Modelos\", fontsize=16)\n",
    "plt.ylabel(\"Acurácia\")\n",
    "plt.xlabel(\"Modelo\")\n",
    "plt.grid(axis='y', linestyle='--', alpha=0.7)\n",
    "plt.xticks(rotation=15)\n",
    "plt.tight_layout()\n",
    "plt.show()"
   ]
  }
 ],
 "metadata": {
  "kernelspec": {
   "display_name": "Python 3 (ipykernel)",
   "language": "python",
   "name": "python3"
  },
  "language_info": {
   "codemirror_mode": {
    "name": "ipython",
    "version": 3
   },
   "file_extension": ".py",
   "mimetype": "text/x-python",
   "name": "python",
   "nbconvert_exporter": "python",
   "pygments_lexer": "ipython3",
   "version": "3.12.9"
  }
 },
 "nbformat": 4,
 "nbformat_minor": 5
}
